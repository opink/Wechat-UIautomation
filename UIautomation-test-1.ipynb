{
 "cells": [
  {
   "cell_type": "markdown",
   "metadata": {},
   "source": [
    "### 1. UIautomation库\n",
    "\n",
    "> https://github.com/yinkaisheng/Python-UIAutomation-for-Windows/blob/master/readme_cn.md"
   ]
  },
  {
   "cell_type": "code",
   "execution_count": 1,
   "metadata": {},
   "outputs": [
    {
     "name": "stdout",
     "output_type": "stream",
     "text": [
      "ControlType: PaneControl    ClassName: #32769    AutomationId:     Rect: (0,0,1920,1080)[1920x1080]    Name: '桌面 1'    Handle: 0x10010(65552)\n",
      "无标题 - 记事本\n",
      "current text: Hello\n",
      "World\n"
     ]
    }
   ],
   "source": [
    "# 测试代码\n",
    "# -*- coding: utf-8 -*-\n",
    "import subprocess\n",
    "import uiautomation as auto\n",
    "\n",
    "def test():\n",
    "    print(auto.GetRootControl())\n",
    "    subprocess.Popen('notepad.exe')\n",
    "    # 首先从桌面的第一层子控件中找到记事本程序的窗口WindowControl，再从这个窗口查找子控件\n",
    "    notepadWindow = auto.WindowControl(searchDepth=1, ClassName='Notepad')\n",
    "    print(notepadWindow.Name)\n",
    "    notepadWindow.SetTopmost(True)\n",
    "    # 查找notepadWindow所有子孙控件中的第一个EditControl，因为EditControl是第一个子控件，可以不指定深度\n",
    "    edit = notepadWindow.EditControl()\n",
    "    try:\n",
    "        # 获取EditControl支持的ValuePattern，并用Pattern设置控件文本为\"Hello\"\n",
    "        edit.GetValuePattern().SetValue('Hello')# or edit.GetPattern(auto.PatternId.ValuePattern)\n",
    "    except auto.comtypes.COMError as ex:\n",
    "        # 如果遇到COMError, 一般是没有以管理员权限运行Python, 或者这个控件没有实现pattern的方法(如果是这种情况，基本没有解决方法)\n",
    "        # 大多数情况不需要捕捉COMError，如果遇到了就加到try block\n",
    "        pass\n",
    "    edit.SendKeys('{Ctrl}{End}{Enter}World')# 在文本末尾打字\n",
    "    print('current text:', edit.GetValuePattern().Value)# 获取当前文本\n",
    "    # 先从notepadWindow的第一层子控件中查找TitleBarControl, \n",
    "    # 然后从TitleBarControl的子孙控件中找第二个ButtonControl, 即最大化按钮，并点击按钮\n",
    "    notepadWindow.TitleBarControl(Depth=1).ButtonControl(foundIndex=2).Click()\n",
    "    # 从notepadWindow前两层子孙控件中查找Name为'关闭'的按钮并点击按钮\n",
    "    notepadWindow.ButtonControl(searchDepth=2, Name='关闭').Click()\n",
    "    # 这时记事本弹出是否保存提示，按热键Alt+N不保存退出。\n",
    "    auto.SendKeys('{Alt}n')\n",
    "\n",
    "if __name__ == '__main__':\n",
    "    test()"
   ]
  },
  {
   "cell_type": "code",
   "execution_count": 6,
   "metadata": {},
   "outputs": [
    {
     "name": "stdout",
     "output_type": "stream",
     "text": [
      " 最后一次列表长度46\n",
      "7 最后一次列表长度31\n",
      "1 最后一次列表长度31\n",
      "2 最后一次列表长度31\n",
      "4 最后一次列表长度31\n",
      "3 最后一次列表长度31\n"
     ]
    },
    {
     "ename": "KeyboardInterrupt",
     "evalue": "",
     "output_type": "error",
     "traceback": [
      "\u001b[1;31m---------------------------------------------------------------------------\u001b[0m",
      "\u001b[1;31mKeyboardInterrupt\u001b[0m                         Traceback (most recent call last)",
      "\u001b[1;32m<ipython-input-6-33b66346efde>\u001b[0m in \u001b[0;36m<module>\u001b[1;34m\u001b[0m\n\u001b[0;32m     23\u001b[0m \u001b[0mformer_msg_list\u001b[0m \u001b[1;33m=\u001b[0m \u001b[0mget_msg_list\u001b[0m\u001b[1;33m(\u001b[0m\u001b[1;33m)\u001b[0m \u001b[1;31m# 上一消息列表状态消息\u001b[0m\u001b[1;33m\u001b[0m\u001b[1;33m\u001b[0m\u001b[0m\n\u001b[0;32m     24\u001b[0m \u001b[1;32mwhile\u001b[0m \u001b[1;32mTrue\u001b[0m\u001b[1;33m:\u001b[0m\u001b[1;33m\u001b[0m\u001b[1;33m\u001b[0m\u001b[0m\n\u001b[1;32m---> 25\u001b[1;33m     \u001b[0mlatest_msg_list\u001b[0m \u001b[1;33m=\u001b[0m \u001b[0mget_msg_list\u001b[0m\u001b[1;33m(\u001b[0m\u001b[1;33m)\u001b[0m\u001b[1;33m\u001b[0m\u001b[1;33m\u001b[0m\u001b[0m\n\u001b[0m\u001b[0;32m     26\u001b[0m     \u001b[1;32mif\u001b[0m \u001b[0mlatest_msg_list\u001b[0m\u001b[1;33m[\u001b[0m\u001b[1;33m-\u001b[0m\u001b[1;36m1\u001b[0m\u001b[1;33m]\u001b[0m \u001b[1;33m!=\u001b[0m \u001b[0mformer_msg_list\u001b[0m\u001b[1;33m[\u001b[0m\u001b[1;33m-\u001b[0m\u001b[1;36m1\u001b[0m\u001b[1;33m]\u001b[0m\u001b[1;33m:\u001b[0m \u001b[1;31m# 末条消息和上一条消息不同\u001b[0m\u001b[1;33m\u001b[0m\u001b[1;33m\u001b[0m\u001b[0m\n\u001b[0;32m     27\u001b[0m         \u001b[0mnew_msg\u001b[0m \u001b[1;33m=\u001b[0m \u001b[0mlatest_msg_list\u001b[0m\u001b[1;33m[\u001b[0m\u001b[1;33m-\u001b[0m\u001b[1;36m1\u001b[0m\u001b[1;33m]\u001b[0m\u001b[1;33m\u001b[0m\u001b[1;33m\u001b[0m\u001b[0m\n",
      "\u001b[1;32m<ipython-input-6-33b66346efde>\u001b[0m in \u001b[0;36mget_msg_list\u001b[1;34m()\u001b[0m\n\u001b[0;32m     13\u001b[0m     \u001b[1;31m# print(f\" Test1: the first msg_ctrl is : {msg_ctrl_list[0]} \\n Test2: the last msg_ctrl is : {msg_ctrl_list[-1]} \\n Test3: the length of msg_List is : {len(msg_ctrl_list)} \") #\u001b[0m\u001b[1;33m\u001b[0m\u001b[1;33m\u001b[0m\u001b[1;33m\u001b[0m\u001b[0m\n\u001b[0;32m     14\u001b[0m     \u001b[1;32mfor\u001b[0m \u001b[0mmsg_ctrl\u001b[0m \u001b[1;32min\u001b[0m \u001b[0mmsg_ctrl_list\u001b[0m\u001b[1;33m:\u001b[0m\u001b[1;33m\u001b[0m\u001b[1;33m\u001b[0m\u001b[0m\n\u001b[1;32m---> 15\u001b[1;33m         \u001b[0mmsg_list\u001b[0m\u001b[1;33m.\u001b[0m\u001b[0mappend\u001b[0m\u001b[1;33m(\u001b[0m\u001b[0mmsg_ctrl\u001b[0m\u001b[1;33m.\u001b[0m\u001b[0mName\u001b[0m\u001b[1;33m)\u001b[0m\u001b[1;33m\u001b[0m\u001b[1;33m\u001b[0m\u001b[0m\n\u001b[0m\u001b[0;32m     16\u001b[0m     \u001b[1;31m# print(f\" Test4: msg_list is : {msg_list}\") #\u001b[0m\u001b[1;33m\u001b[0m\u001b[1;33m\u001b[0m\u001b[1;33m\u001b[0m\u001b[0m\n\u001b[0;32m     17\u001b[0m     \u001b[1;32mreturn\u001b[0m \u001b[0mmsg_list\u001b[0m\u001b[1;33m\u001b[0m\u001b[1;33m\u001b[0m\u001b[0m\n",
      "\u001b[1;32mC:\\Anaconda3\\lib\\site-packages\\uiautomation\\uiautomation.py\u001b[0m in \u001b[0;36mName\u001b[1;34m(self)\u001b[0m\n\u001b[0;32m   6085\u001b[0m         \u001b[0mRefer\u001b[0m \u001b[0mhttps\u001b[0m\u001b[1;33m:\u001b[0m\u001b[1;33m//\u001b[0m\u001b[0mdocs\u001b[0m\u001b[1;33m.\u001b[0m\u001b[0mmicrosoft\u001b[0m\u001b[1;33m.\u001b[0m\u001b[0mcom\u001b[0m\u001b[1;33m/\u001b[0m\u001b[0men\u001b[0m\u001b[1;33m-\u001b[0m\u001b[0mus\u001b[0m\u001b[1;33m/\u001b[0m\u001b[0mwindows\u001b[0m\u001b[1;33m/\u001b[0m\u001b[0mwin32\u001b[0m\u001b[1;33m/\u001b[0m\u001b[0mapi\u001b[0m\u001b[1;33m/\u001b[0m\u001b[0muiautomationclient\u001b[0m\u001b[1;33m/\u001b[0m\u001b[0mnf\u001b[0m\u001b[1;33m-\u001b[0m\u001b[0muiautomationclient\u001b[0m\u001b[1;33m-\u001b[0m\u001b[0miuiautomationelement\u001b[0m\u001b[1;33m-\u001b[0m\u001b[0mget_currentname\u001b[0m\u001b[1;33m\u001b[0m\u001b[1;33m\u001b[0m\u001b[0m\n\u001b[0;32m   6086\u001b[0m         \"\"\"\n\u001b[1;32m-> 6087\u001b[1;33m         \u001b[1;32mreturn\u001b[0m \u001b[0mself\u001b[0m\u001b[1;33m.\u001b[0m\u001b[0mElement\u001b[0m\u001b[1;33m.\u001b[0m\u001b[0mCurrentName\u001b[0m \u001b[1;32mor\u001b[0m \u001b[1;34m''\u001b[0m   \u001b[1;31m# CurrentName may be None\u001b[0m\u001b[1;33m\u001b[0m\u001b[1;33m\u001b[0m\u001b[0m\n\u001b[0m\u001b[0;32m   6088\u001b[0m \u001b[1;33m\u001b[0m\u001b[0m\n\u001b[0;32m   6089\u001b[0m     \u001b[1;33m@\u001b[0m\u001b[0mproperty\u001b[0m\u001b[1;33m\u001b[0m\u001b[1;33m\u001b[0m\u001b[0m\n",
      "\u001b[1;32mC:\\Anaconda3\\lib\\site-packages\\comtypes\\__init__.py\u001b[0m in \u001b[0;36m__ctypes_from_outparam__\u001b[1;34m(self)\u001b[0m\n\u001b[0;32m    993\u001b[0m         \u001b[1;32mreturn\u001b[0m \u001b[1;34m\"%s(%r)\"\u001b[0m \u001b[1;33m%\u001b[0m \u001b[1;33m(\u001b[0m\u001b[0mself\u001b[0m\u001b[1;33m.\u001b[0m\u001b[0m__class__\u001b[0m\u001b[1;33m.\u001b[0m\u001b[0m__name__\u001b[0m\u001b[1;33m,\u001b[0m \u001b[0mself\u001b[0m\u001b[1;33m.\u001b[0m\u001b[0mvalue\u001b[0m\u001b[1;33m)\u001b[0m\u001b[1;33m\u001b[0m\u001b[1;33m\u001b[0m\u001b[0m\n\u001b[0;32m    994\u001b[0m \u001b[1;33m\u001b[0m\u001b[0m\n\u001b[1;32m--> 995\u001b[1;33m     \u001b[1;32mdef\u001b[0m \u001b[0m__ctypes_from_outparam__\u001b[0m\u001b[1;33m(\u001b[0m\u001b[0mself\u001b[0m\u001b[1;33m)\u001b[0m\u001b[1;33m:\u001b[0m\u001b[1;33m\u001b[0m\u001b[1;33m\u001b[0m\u001b[0m\n\u001b[0m\u001b[0;32m    996\u001b[0m         \u001b[0mself\u001b[0m\u001b[1;33m.\u001b[0m\u001b[0m_needsfree\u001b[0m \u001b[1;33m=\u001b[0m \u001b[1;32mTrue\u001b[0m\u001b[1;33m\u001b[0m\u001b[1;33m\u001b[0m\u001b[0m\n\u001b[0;32m    997\u001b[0m         \u001b[1;32mreturn\u001b[0m \u001b[0mself\u001b[0m\u001b[1;33m.\u001b[0m\u001b[0mvalue\u001b[0m\u001b[1;33m\u001b[0m\u001b[1;33m\u001b[0m\u001b[0m\n",
      "\u001b[1;31mKeyboardInterrupt\u001b[0m: "
     ]
    }
   ],
   "source": [
    "# wechat\n",
    "import uiautomation\n",
    "import time\n",
    "\n",
    "# 定位微信主窗口，获取窗口句柄\n",
    "spying_window_name = \"文件传输助手\"\n",
    "spying_window = uiautomation.WindowControl(searchDepth=1, Name=spying_window_name)\n",
    "\n",
    "def get_msg_list():\n",
    "    msg_list = [] \n",
    "    # 找到窗口的list部件然后获取内容\n",
    "    msg_ctrl_list = spying_window.ListControl().GetChildren()\n",
    "    # print(f\" Test1: the first msg_ctrl is : {msg_ctrl_list[0]} \\n Test2: the last msg_ctrl is : {msg_ctrl_list[-1]} \\n Test3: the length of msg_List is : {len(msg_ctrl_list)} \") #\n",
    "    for msg_ctrl in msg_ctrl_list:\n",
    "        msg_list.append(msg_ctrl.Name)\n",
    "    # print(f\" Test4: msg_list is : {msg_list}\") #\n",
    "    return msg_list\n",
    "\n",
    "def send_text_msg(text_msg:str):\n",
    "    spying_window.SendKeys(text_msg) # 写入消息\n",
    "    spying_window.SendKey(13) # 点击Enter按键ASCⅡ\n",
    "\n",
    "former_msg_list = get_msg_list() # 上一消息列表状态消息\n",
    "while True:\n",
    "    latest_msg_list = get_msg_list()\n",
    "    if latest_msg_list[-1] != former_msg_list[-1]: # 末条消息和上一条消息不同\n",
    "        new_msg = latest_msg_list[-1]\n",
    "        print(new_msg , f\"最后一次列表长度{len(latest_msg_list)}\")\n",
    "        # send_text_msg(new_msg)\n",
    "        former_msg_list = get_msg_list()\n",
    "        time.sleep(3)"
   ]
  },
  {
   "cell_type": "markdown",
   "metadata": {},
   "source": [
    "# 2.查看所有窗口句柄和名称"
   ]
  },
  {
   "cell_type": "code",
   "execution_count": 5,
   "metadata": {},
   "outputs": [
    {
     "name": "stdout",
     "output_type": "stream",
     "text": [
      "67862 QQ\n",
      "66494 小火箭托盘加速\n",
      "197656 SCM\n",
      "657810 ● UIautomation-1.ipynb - Visual Studio Code\n",
      "853572 [python]微信自动回复-通用窗口操作接口uiautomation_哔哩哔哩_bilibili — Mozilla Firefox\n",
      "8129044 伊卡酱的播种船等3个会话\n",
      "3739266 文件传输助手\n",
      "3278926 微信\n",
      "132036 NVIDIA GeForce Overlay\n",
      "131162 Microsoft Text Input Application\n",
      "197978 设置\n",
      "66840 设置\n",
      "67158 Killer Intelligence Center\n",
      "196830 Program Manager\n"
     ]
    }
   ],
   "source": [
    "import win32gui\n",
    "\n",
    "hwnd_title = dict()\n",
    "\n",
    "def get_all_hwnd(hwnd, mouse):\n",
    "    if win32gui.IsWindow(hwnd) and win32gui.IsWindowEnabled(hwnd) and win32gui.IsWindowVisible(hwnd):\n",
    "        hwnd_title.update({hwnd: win32gui.GetWindowText(hwnd)})\n",
    "\n",
    "win32gui.EnumWindows(get_all_hwnd, 0)    \n",
    "\n",
    "for h, t in hwnd_title.items():\n",
    "    if t != \"\":\n",
    "        print(h, t)"
   ]
  },
  {
   "cell_type": "code",
   "execution_count": null,
   "metadata": {},
   "outputs": [],
   "source": []
  }
 ],
 "metadata": {
  "interpreter": {
   "hash": "97ae724bfa85b9b34df7982b8bb8c7216f435b92902d749e4263f71162bea840"
  },
  "kernelspec": {
   "display_name": "Python 3.8.3 ('base')",
   "language": "python",
   "name": "python3"
  },
  "language_info": {
   "codemirror_mode": {
    "name": "ipython",
    "version": 3
   },
   "file_extension": ".py",
   "mimetype": "text/x-python",
   "name": "python",
   "nbconvert_exporter": "python",
   "pygments_lexer": "ipython3",
   "version": "3.8.3"
  },
  "orig_nbformat": 4
 },
 "nbformat": 4,
 "nbformat_minor": 2
}
